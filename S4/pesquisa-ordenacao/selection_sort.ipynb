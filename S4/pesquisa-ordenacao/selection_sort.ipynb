{
  "nbformat": 4,
  "nbformat_minor": 0,
  "metadata": {
    "colab": {
      "name": "selection_sort.ipynb",
      "provenance": [],
      "collapsed_sections": [],
      "authorship_tag": "ABX9TyN6PGkGX4MnLFcZlAsYiA3M",
      "include_colab_link": true
    },
    "kernelspec": {
      "name": "python3",
      "display_name": "Python 3"
    },
    "language_info": {
      "name": "python"
    }
  },
  "cells": [
    {
      "cell_type": "markdown",
      "metadata": {
        "id": "view-in-github",
        "colab_type": "text"
      },
      "source": [
        "<a href=\"https://colab.research.google.com/github/jbrenorv/faculdade/blob/master/S4/pesquisa-ordenacao/selection_sort.ipynb\" target=\"_parent\"><img src=\"https://colab.research.google.com/assets/colab-badge.svg\" alt=\"Open In Colab\"/></a>"
      ]
    },
    {
      "cell_type": "code",
      "metadata": {
        "id": "mY9Q1Mx2avFn"
      },
      "source": [
        "import matplotlib.pyplot as plt\n",
        "from random import sample\n",
        "from time import perf_counter"
      ],
      "execution_count": 68,
      "outputs": []
    },
    {
      "cell_type": "code",
      "metadata": {
        "id": "RL-3zZCYcBeg"
      },
      "source": [
        "sizes = [1000, 2000, 3000, 4000, 5000, 8000, 11000, 15000]\n",
        "times = []\n",
        "times_of_worst_case = []"
      ],
      "execution_count": 69,
      "outputs": []
    },
    {
      "cell_type": "code",
      "metadata": {
        "id": "nr0ExHFAcDPN"
      },
      "source": [
        "def build_array(size):\n",
        "  \"\"\"\n",
        "  Gera um array de manho [size] de inteiros i ; 0 <= i < [size]\n",
        "  sem repericoes\n",
        "  \"\"\"\n",
        "\n",
        "  return sample(range(size), size)"
      ],
      "execution_count": 70,
      "outputs": []
    },
    {
      "cell_type": "code",
      "metadata": {
        "id": "c6BIf0OdcFem"
      },
      "source": [
        "def worst_case(array):\n",
        "  \"\"\"\n",
        "  O pior caso do algoritmo ocorre quando o array esta em ordem inversa a \n",
        "  que se quer ordenar\n",
        "  \"\"\"\n",
        "\n",
        "  array = array.reverse()"
      ],
      "execution_count": 71,
      "outputs": []
    },
    {
      "cell_type": "code",
      "metadata": {
        "id": "L1NdTbXidP86"
      },
      "source": [
        "def selection_sort(array):\n",
        "  for i in range(len(array)):\n",
        "    min_idx = i\n",
        "    for j in range(i+1, len(array)):\n",
        "        if array[min_idx] > array[j]:\n",
        "            min_idx = j\n",
        "                   \n",
        "    array[i], array[min_idx] = array[min_idx], array[i]"
      ],
      "execution_count": 72,
      "outputs": []
    },
    {
      "cell_type": "code",
      "metadata": {
        "id": "mW78CWMocmcG"
      },
      "source": [
        "def solve():\n",
        "  for l in sizes:\n",
        "    # Cria o array\n",
        "    a = build_array(l)\n",
        "\n",
        "    # Calcula o tempo do caso aleatorio\n",
        "    t0 = perf_counter()\n",
        "    selection_sort(a)\n",
        "    t = perf_counter()\n",
        "    times.append(t - t0)\n",
        "\n",
        "    # obtem uma instancia de pior caso\n",
        "    worst_case(a)\n",
        "\n",
        "    # Calcula o tempo de pior caso\n",
        "    t0 = perf_counter()\n",
        "    selection_sort(a)\n",
        "    t = perf_counter()\n",
        "    times_of_worst_case.append(t - t0)"
      ],
      "execution_count": 73,
      "outputs": []
    },
    {
      "cell_type": "code",
      "metadata": {
        "id": "2eE_AHTKdHuW"
      },
      "source": [
        "solve()"
      ],
      "execution_count": 74,
      "outputs": []
    },
    {
      "cell_type": "code",
      "metadata": {
        "colab": {
          "base_uri": "https://localhost:8080/",
          "height": 279
        },
        "id": "L2uY6DJ7dIsP",
        "outputId": "064e97ad-ee8c-4d08-ce1e-92ccf59a12c2"
      },
      "source": [
        "plt.plot(sizes, times, '-b', label= 'Aleatório')\n",
        "plt.plot(sizes, times_of_worst_case, '-r', label= 'Pior caso')\n",
        "plt.xlabel('Tamanho da lista')\n",
        "plt.ylabel('Tempo de ordenação (s)')\n",
        "plt.legend()\n",
        "plt.show()"
      ],
      "execution_count": 75,
      "outputs": [
        {
          "output_type": "display_data",
          "data": {
            "image/png": "[encoded data removed]",
            "text/plain": [
              "<Figure size 432x288 with 1 Axes>"
            ]
          },
          "metadata": {
            "needs_background": "light"
          }
        }
      ]
    }
  ]
}