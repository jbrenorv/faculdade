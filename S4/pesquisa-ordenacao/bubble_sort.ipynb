{
  "nbformat": 4,
  "nbformat_minor": 0,
  "metadata": {
    "colab": {
      "name": "bubble_sort.ipynb",
      "provenance": [],
      "collapsed_sections": [],
      "authorship_tag": "ABX9TyOmZOViZ3H9nyJyIb151Rvu",
      "include_colab_link": true
    },
    "kernelspec": {
      "name": "python3",
      "display_name": "Python 3"
    },
    "language_info": {
      "name": "python"
    }
  },
  "cells": [
    {
      "cell_type": "markdown",
      "metadata": {
        "id": "view-in-github",
        "colab_type": "text"
      },
      "source": [
        "<a href=\"https://colab.research.google.com/github/jbrenorv/faculdade/blob/master/S4/pesquisa-ordenacao/bubble_sort.ipynb\" target=\"_parent\"><img src=\"https://colab.research.google.com/assets/colab-badge.svg\" alt=\"Open In Colab\"/></a>"
      ]
    },
    {
      "cell_type": "code",
      "metadata": {
        "id": "CW8VFAf_Rc89"
      },
      "source": [
        "import matplotlib.pyplot as plt\n",
        "from random import sample\n",
        "from time import perf_counter"
      ],
      "execution_count": 245,
      "outputs": []
    },
    {
      "cell_type": "code",
      "metadata": {
        "id": "829P0-tbUSNo"
      },
      "source": [
        "sizes = [1000, 2000, 3000, 4000, 5000, 8000, 11000, 15000]\n",
        "times = []\n",
        "times_of_worst_case = []"
      ],
      "execution_count": 246,
      "outputs": []
    },
    {
      "cell_type": "code",
      "metadata": {
        "id": "0zsn8xw6TzSw"
      },
      "source": [
        "def build_array(size):\n",
        "  \"\"\"\n",
        "  Gera um array de manho [size] de inteiros i ; 0 <= i < [size]\n",
        "  \"\"\"\n",
        "\n",
        "  return sample(range(size), size)"
      ],
      "execution_count": 247,
      "outputs": []
    },
    {
      "cell_type": "code",
      "metadata": {
        "id": "QCAJrVkDXq6L"
      },
      "source": [
        "def worst_case(array):\n",
        "  \"\"\"\n",
        "  O pior caso do algoritmo ocorre quando o array esta em ordem decrescente\n",
        "  \"\"\"\n",
        "\n",
        "  bubble_sort(array, op= lambda a, b: a < b)"
      ],
      "execution_count": 248,
      "outputs": []
    },
    {
      "cell_type": "code",
      "metadata": {
        "id": "z_3u1pOligay"
      },
      "source": [
        "def solve():\n",
        "  for l in sizes:\n",
        "    # Cria o array\n",
        "    a = build_array(l)\n",
        "\n",
        "    # Calcula o tempo do caso aleatorio\n",
        "    t0 = perf_counter()\n",
        "    bubble_sort(a)\n",
        "    t = perf_counter()\n",
        "    times.append(t - t0)\n",
        "\n",
        "    # obtem uma instancia de pior caso\n",
        "    worst_case(a)\n",
        "\n",
        "    # Calcula o tempo de pior caso\n",
        "    t0 = perf_counter()\n",
        "    bubble_sort(a)\n",
        "    t = perf_counter()\n",
        "    times_of_worst_case.append(t - t0)"
      ],
      "execution_count": 249,
      "outputs": []
    },
    {
      "cell_type": "code",
      "metadata": {
        "id": "4g4gOWqHixJB"
      },
      "source": [
        "solve()"
      ],
      "execution_count": 250,
      "outputs": []
    },
    {
      "cell_type": "code",
      "metadata": {
        "colab": {
          "base_uri": "https://localhost:8080/",
          "height": 279
        },
        "id": "8EmJLahVqgLW",
        "outputId": "dd3b2eac-816a-4318-f133-c76468afa4d3"
      },
      "source": [
        "plt.plot(sizes, times, '-b', label= 'Aleatório')\n",
        "plt.plot(sizes, times_of_worst_case, '-r', label= 'Pior caso')\n",
        "plt.xlabel('Tamanho da lista')\n",
        "plt.ylabel('Tempo de ordenação (s)')\n",
        "plt.legend()\n",
        "plt.show()"
      ],
      "execution_count": 251,
      "outputs": [
        {
          "output_type": "display_data",
          "data": {
            "image/png": "[encoded data removed]",
            "text/plain": [
              "<Figure size 432x288 with 1 Axes>"
            ]
          },
          "metadata": {
            "needs_background": "light"
          }
        }
      ]
    }
  ]
}