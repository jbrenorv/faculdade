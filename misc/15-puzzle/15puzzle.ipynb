{
  "nbformat": 4,
  "nbformat_minor": 0,
  "metadata": {
    "colab": {
      "provenance": [],
      "authorship_tag": "ABX9TyONWUjaTfW6f0BWVvcJjYJE",
      "include_colab_link": true
    },
    "kernelspec": {
      "name": "python3",
      "display_name": "Python 3"
    },
    "language_info": {
      "name": "python"
    }
  },
  "cells": [
    {
      "cell_type": "markdown",
      "metadata": {
        "id": "view-in-github",
        "colab_type": "text"
      },
      "source": [
        "<a href=\"https://colab.research.google.com/github/jbrenorv/15-puzzle/blob/main/15puzzle.ipynb\" target=\"_parent\"><img src=\"https://colab.research.google.com/assets/colab-badge.svg\" alt=\"Open In Colab\"/></a>"
      ]
    },
    {
      "cell_type": "code",
      "source": [
        "from heapq import heappush, heappop\n",
        "from bisect import bisect, insort\n",
        "from copy import deepcopy\n",
        "import base64"
      ],
      "metadata": {
        "id": "j_8dB8igzysz"
      },
      "execution_count": null,
      "outputs": []
    },
    {
      "cell_type": "code",
      "source": [
        "META = [1,2,3,4,5,6,7,8,9,10,11,12,13,14,15,0]\n",
        "POS = [(0,0),(0,1),(0,2),(0,3),(1,0),(1,1),(1,2),(1,3),(2,0),(2,1),(2,2),(2,3),(3,0),(3,1),(3,2),(3,3)]\n",
        "movements_by_position = ['rb','rbl','rbl','bl','rbt','rblt','rblt','blt','rbt','rblt','rblt','blt','rt','rlt','rlt','lt']\n",
        "delta = {'r': 1, 'b': 4, 'l': -1, 't': -4}"
      ],
      "metadata": {
        "id": "yMIwbMeM2J2k"
      },
      "execution_count": null,
      "outputs": []
    },
    {
      "cell_type": "code",
      "source": [
        "def get_num_of_inversions(arr):\n",
        "  \"\"\"\n",
        "  Inversion count in Array using Merge Sort\n",
        "  Reference: https://www.geeksforgeeks.org/inversion-count-in-array-using-merge-sort/\n",
        "  \"\"\"\n",
        "\n",
        "  A = deepcopy(arr)\n",
        "  A.remove(0)\n",
        "\n",
        "  N = len(A)\n",
        "  if N <= 1:\n",
        "      return 0\n",
        "\n",
        "  sortList = []\n",
        "  result = 0\n",
        "\n",
        "  # Heapsort, O(N*log(N))\n",
        "  for i, v in enumerate(A):\n",
        "      heappush(sortList, (v, i))\n",
        "\n",
        "  # Create a sorted list of indexes\n",
        "  x = []\n",
        "  while sortList:\n",
        "\n",
        "      # O(log(N))\n",
        "      v, i = heappop(sortList)\n",
        "\n",
        "      # Find the current minimum's index\n",
        "      # the index y can represent how many minimums on the left\n",
        "      y = bisect(x, i)\n",
        "\n",
        "      # i can represent how many elements on the left\n",
        "      # i - y can find how many bigger nums on the left\n",
        "      result += i - y\n",
        "\n",
        "      insort(x, i)\n",
        "\n",
        "  return result"
      ],
      "metadata": {
        "id": "XXTAKDww4xEb"
      },
      "execution_count": null,
      "outputs": []
    },
    {
      "cell_type": "code",
      "source": [
        "def manhattan(board):\n",
        "  dist = 0\n",
        "  for i,e in enumerate(board):\n",
        "    if e == 0:\n",
        "      continue\n",
        "\n",
        "    x1, y1 = POS[i]\n",
        "    x2, y2 = POS[e - 1]\n",
        "    dist += abs(x1 - x2) + abs(y1 - y2)\n",
        "\n",
        "  return dist"
      ],
      "metadata": {
        "id": "AxZp11vFPRRx"
      },
      "execution_count": null,
      "outputs": []
    },
    {
      "cell_type": "code",
      "source": [
        "def linear_conflict(board):\n",
        "  sz = 4\n",
        "  conflicts = 0\n",
        "  row = lambda i: POS[i][0]\n",
        "  col = lambda i: POS[i][1]\n",
        "  is_correct_row = lambda i,e: row(i) == row(e - 1)\n",
        "  is_correct_col = lambda i,e: col(i) == col(e - 1)\n",
        "\n",
        "  for a in range(sz):\n",
        "    for b in range(sz):\n",
        "\n",
        "      r, c = a, b\n",
        "      i = r * sz + c\n",
        "      if is_correct_row(i, board[i]) and board[i] != 0:\n",
        "        for c1 in range(c, sz):\n",
        "          j = r * sz + c1\n",
        "          if is_correct_row(j, board[j]) and board[i] > board[j] and board[j] != 0:\n",
        "            conflicts += 1\n",
        "\n",
        "      r, c = b, a\n",
        "      i = r * sz + c\n",
        "      if is_correct_col(i, board[i]) and board[i] != 0:\n",
        "        for r1 in range(r, sz):\n",
        "          j = r1 * sz + c\n",
        "          if is_correct_col(j, board[j]) and board[i] > board[j] and board[j] != 0:\n",
        "            conflicts += 1\n",
        "\n",
        "  return manhattan(board) + conflicts * 2;"
      ],
      "metadata": {
        "id": "CFfSjwmLp977"
      },
      "execution_count": null,
      "outputs": []
    },
    {
      "cell_type": "code",
      "source": [
        "heuristcs = {\n",
        "  'manhattan': manhattan,\n",
        "  'linear_conflict': linear_conflict,\n",
        "}"
      ],
      "metadata": {
        "id": "0sI1Kw3w8iPJ"
      },
      "execution_count": null,
      "outputs": []
    },
    {
      "cell_type": "code",
      "source": [
        "class PriorityQueue:\n",
        "\n",
        "  def __init__(self):\n",
        "    self.array = []\n",
        "\n",
        "\n",
        "  def empty(self):\n",
        "    return len(self.array) == 0\n",
        "\n",
        "\n",
        "  def find_priority(self, priority):\n",
        "    start = 0\n",
        "    end = len(self.array) -1\n",
        "    while start <= end:\n",
        "      mid = (start + end) // 2\n",
        "      if self.array[mid][0] == priority:\n",
        "        return (True, mid)\n",
        "      if self.array[mid][0] > priority:\n",
        "        start = mid + 1\n",
        "      else:\n",
        "        end = mid - 1\n",
        "    return (False, start)\n",
        "\n",
        "\n",
        "  def insert(self, element, priority):\n",
        "    exists, index = self.find_priority(priority)\n",
        "    if exists:\n",
        "      self.array[index][1].append(element)\n",
        "    else:\n",
        "      self.array.insert(index, (priority, [element],))\n",
        "\n",
        "\n",
        "  def min(self):\n",
        "    if not self.empty():\n",
        "      value = self.array[-1][1].pop()\n",
        "      if len(self.array[-1][1]) == 0:\n",
        "        self.array.pop()\n",
        "      return value\n",
        "    return None"
      ],
      "metadata": {
        "id": "1-FG2OaTE_xy"
      },
      "execution_count": null,
      "outputs": []
    },
    {
      "cell_type": "code",
      "source": [
        "class PuzzleState:\n",
        "\n",
        "  def __init__(self, board, parent=None, m=None):\n",
        "    self.board = board;\n",
        "    self.parent = parent;\n",
        "    self.m = m\n",
        "    self.g = parent.g + 1 if parent else 0;\n",
        "    self.h = None\n",
        "\n",
        "\n",
        "  def __eq__(self, other):\n",
        "    return hasattr(other, 'board') and self.board == other.board\n",
        "\n",
        "\n",
        "  def get_heuristc(self, heuristic):\n",
        "    if not self.h:\n",
        "      self.h = heuristcs[heuristic](self.board)\n",
        "    return self.h\n",
        "\n",
        "\n",
        "  def get_total_distance(self, heuristic):\n",
        "    return self.g + self.get_heuristc(heuristic)\n",
        "\n",
        "\n",
        "  def solvable(self):\n",
        "    n_inv = get_num_of_inversions(self.board)\n",
        "    i = self.board.index(0)\n",
        "    e = (i // 4) +1\n",
        "    return (n_inv + e) % 2 == 0\n",
        "\n",
        "\n",
        "  def get_path(self):\n",
        "    path = [None] * (self.g + 1)\n",
        "    i = self.g\n",
        "    state = self\n",
        "    while state:\n",
        "      path[i] = state\n",
        "      state = state.parent\n",
        "      i -= 1\n",
        "    return path\n",
        "\n",
        "\n",
        "  def get_hash(self):\n",
        "    return base64.b64encode(bytes(self.board))\n",
        "\n",
        "\n",
        "  def get_neighbors(self):\n",
        "\n",
        "    def make_movement(i, d):\n",
        "      j = i + delta[d]\n",
        "      new = deepcopy(self.board)\n",
        "      new[i], new[j] = new[j], new[i]\n",
        "      return new\n",
        "\n",
        "    neighbors = []\n",
        "    i = self.board.index(0)\n",
        "\n",
        "    for d in movements_by_position[i]:\n",
        "      new = make_movement(i, d)\n",
        "      neighbors.append(PuzzleState(new, self, d))\n",
        "\n",
        "    return neighbors\n",
        "\n",
        "\n",
        "  def solve(self, solver, heuristic='linear_conflict', log=True):\n",
        "    if not self.solvable():\n",
        "      if log:\n",
        "        print('Impossible!')\n",
        "      return (None, None,)\n",
        "\n",
        "    answer, nb_tries = solver(self, heuristic)\n",
        "\n",
        "    if log:\n",
        "      print(f'Number of tries: {nb_tries}')\n",
        "      path = answer.get_path()\n",
        "      print(f'Number of moves: {len(path) - 1}')\n",
        "      for state in path:\n",
        "        if state.m:\n",
        "          print(state.m, end=' - ')\n",
        "      print('\\n\\n')\n",
        "\n",
        "    return (answer, nb_tries,)"
      ],
      "metadata": {
        "id": "YvPXUbmMq6sQ"
      },
      "execution_count": null,
      "outputs": []
    },
    {
      "cell_type": "code",
      "source": [
        "def A_star(start: PuzzleState, heuristic):\n",
        "\n",
        "  opened = PriorityQueue()\n",
        "  closed = {}\n",
        "  nb_tries = 0\n",
        "  opened.insert(start, start.get_total_distance(heuristic))\n",
        "\n",
        "  while not opened.empty():\n",
        "    nb_tries += 1\n",
        "    current = opened.min()\n",
        "\n",
        "    if current.board == META:\n",
        "      return (current, nb_tries,)\n",
        "\n",
        "    current_hash = current.get_hash()\n",
        "    if current_hash in closed and current.g >= closed[current_hash]:\n",
        "      continue;\n",
        "\n",
        "    closed[current_hash] = current.g\n",
        "    for neighbor in current.get_neighbors():\n",
        "      opened.insert(neighbor, neighbor.get_total_distance(heuristic))"
      ],
      "metadata": {
        "id": "U2KvEupPq1O-"
      },
      "execution_count": null,
      "outputs": []
    },
    {
      "cell_type": "code",
      "source": [
        "def best_first(start: PuzzleState, heuristic):\n",
        "\n",
        "  opened = PriorityQueue()\n",
        "  closed = {}\n",
        "  nb_tries = 0\n",
        "  opened.insert(start, start.get_total_distance(heuristic))\n",
        "\n",
        "  while not opened.empty():\n",
        "    nb_tries += 1\n",
        "    current = opened.min()\n",
        "\n",
        "    if current.board == META:\n",
        "      return (current, nb_tries,)\n",
        "\n",
        "    current_hash = current.get_hash()\n",
        "    if current_hash in closed and current.g >= closed[current_hash]:\n",
        "      continue;\n",
        "\n",
        "    closed[current_hash] = current.g\n",
        "    for neighbor in current.get_neighbors():\n",
        "      opened.insert(neighbor, neighbor.get_heuristc(heuristic))"
      ],
      "metadata": {
        "id": "TQImxQNakEXZ"
      },
      "execution_count": null,
      "outputs": []
    },
    {
      "cell_type": "code",
      "source": [
        "board = [7,1,4,3,11,0,10,14,12,5,6,8,9,2,13,15]\n",
        "state = PuzzleState(board)"
      ],
      "metadata": {
        "id": "J-gnNS1bT8VW"
      },
      "execution_count": null,
      "outputs": []
    },
    {
      "cell_type": "code",
      "source": [
        "%time state.solve(A_star)"
      ],
      "metadata": {
        "id": "e-LScSRYVkrN",
        "colab": {
          "base_uri": "https://localhost:8080/"
        },
        "outputId": "60fc1678-d3c1-40d9-f6a6-ce57499f984b"
      },
      "execution_count": null,
      "outputs": [
        {
          "output_type": "stream",
          "name": "stdout",
          "text": [
            "Number of tries: 592398\n",
            "Number of moves: 46\n",
            "b - b - r - r - t - t - t - l - l - b - r - b - l - l - t - r - r - b - r - b - l - t - l - l - t - t - r - r - b - r - b - l - l - t - l - t - r - r - b - l - b - l - b - r - r - r - \n",
            "\n",
            "\n",
            "CPU times: user 1min 3s, sys: 199 ms, total: 1min 4s\n",
            "Wall time: 1min 4s\n"
          ]
        },
        {
          "output_type": "execute_result",
          "data": {
            "text/plain": [
              "(<__main__.PuzzleState at 0x7912f566d690>, 592398)"
            ]
          },
          "metadata": {},
          "execution_count": 362
        }
      ]
    },
    {
      "cell_type": "code",
      "source": [
        "%time state.solve(best_first)"
      ],
      "metadata": {
        "colab": {
          "base_uri": "https://localhost:8080/"
        },
        "id": "1F_BFZquGqJ0",
        "outputId": "56196cc7-4861-4ef0-e267-5bdcebe15c09"
      },
      "execution_count": null,
      "outputs": [
        {
          "output_type": "stream",
          "name": "stdout",
          "text": [
            "Number of tries: 384\n",
            "Number of moves: 72\n",
            "l - t - r - b - l - b - r - b - r - r - t - t - t - l - l - b - l - b - b - r - t - t - t - r - b - l - t - r - b - b - l - t - t - r - b - r - b - b - l - l - t - t - t - r - b - r - b - l - t - l - b - r - b - l - t - t - r - b - b - r - t - t - t - l - b - l - t - r - r - b - b - b - \n",
            "\n",
            "\n",
            "CPU times: user 56.1 ms, sys: 2.99 ms, total: 59.1 ms\n",
            "Wall time: 58 ms\n"
          ]
        },
        {
          "output_type": "execute_result",
          "data": {
            "text/plain": [
              "(<__main__.PuzzleState at 0x791302979810>, 384)"
            ]
          },
          "metadata": {},
          "execution_count": 363
        }
      ]
    }
  ]
}